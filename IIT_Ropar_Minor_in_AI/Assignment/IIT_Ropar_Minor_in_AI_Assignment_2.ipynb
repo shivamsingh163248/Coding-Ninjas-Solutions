{
  "nbformat": 4,
  "nbformat_minor": 0,
  "metadata": {
    "colab": {
      "provenance": [],
      "authorship_tag": "ABX9TyO62kv5JVOu4dCj8RYFB96D",
      "include_colab_link": true
    },
    "kernelspec": {
      "name": "python3",
      "display_name": "Python 3"
    },
    "language_info": {
      "name": "python"
    }
  },
  "cells": [
    {
      "cell_type": "markdown",
      "metadata": {
        "id": "view-in-github",
        "colab_type": "text"
      },
      "source": [
        "<a href=\"https://colab.research.google.com/github/shivamsingh163248/Coding-Ninjas-Solutions/blob/main/IIT_Ropar_Minor_in_AI/Assignment/IIT_Ropar_Minor_in_AI_Assignment_2.ipynb\" target=\"_parent\"><img src=\"https://colab.research.google.com/assets/colab-badge.svg\" alt=\"Open In Colab\"/></a>"
      ]
    },
    {
      "cell_type": "code",
      "execution_count": 1,
      "metadata": {
        "colab": {
          "base_uri": "https://localhost:8080/"
        },
        "id": "5mqFceGeGECv",
        "outputId": "42c50a82-cf22-4887-d2f8-a5347fcfaa76"
      },
      "outputs": [
        {
          "output_type": "stream",
          "name": "stdout",
          "text": [
            "Enter your age: 45\n",
            "45\n"
          ]
        }
      ],
      "source": [
        "age = input(\"Enter your age: \")  # String input\n",
        "age = int(age)  # Convert to integer\n",
        "\n",
        "print(age)"
      ]
    },
    {
      "cell_type": "code",
      "source": [
        "age = int(input(\"Enter your age: \"))\n",
        "print(age)"
      ],
      "metadata": {
        "colab": {
          "base_uri": "https://localhost:8080/"
        },
        "id": "CTYMS9apGgbg",
        "outputId": "ad63cf05-1a39-4798-dc2f-01bfa24383d0"
      },
      "execution_count": 2,
      "outputs": [
        {
          "output_type": "stream",
          "name": "stdout",
          "text": [
            "Enter your age: 56\n",
            "56\n"
          ]
        }
      ]
    },
    {
      "cell_type": "code",
      "source": [
        "age = input(\"enter the age \")\n",
        "print(age)"
      ],
      "metadata": {
        "colab": {
          "base_uri": "https://localhost:8080/"
        },
        "id": "a5YoCPX0GuVP",
        "outputId": "8c462097-43c7-48b7-fabb-a904d20f862d"
      },
      "execution_count": 3,
      "outputs": [
        {
          "output_type": "stream",
          "name": "stdout",
          "text": [
            "enter the age 578\n",
            "578\n"
          ]
        }
      ]
    },
    {
      "cell_type": "code",
      "source": [
        "int(\"10\")    # Converts string \"10\" to integer 10\n",
        "float(5)     # Converts integer 5 to float 5.0\n",
        "str(100)     # Converts integer 100 to string \"100\"\n"
      ],
      "metadata": {
        "colab": {
          "base_uri": "https://localhost:8080/",
          "height": 35
        },
        "id": "E7PlSha5HAgP",
        "outputId": "e5ea56cf-4f93-40d1-bed7-2cee02d59030"
      },
      "execution_count": 4,
      "outputs": [
        {
          "output_type": "execute_result",
          "data": {
            "text/plain": [
              "'100'"
            ],
            "application/vnd.google.colaboratory.intrinsic+json": {
              "type": "string"
            }
          },
          "metadata": {},
          "execution_count": 4
        }
      ]
    },
    {
      "cell_type": "code",
      "source": [
        "str(42)   # \"42\"\n",
        "str(3.14) # \"3.14\"\n",
        "\n"
      ],
      "metadata": {
        "colab": {
          "base_uri": "https://localhost:8080/",
          "height": 35
        },
        "id": "xB7uXbWMHxx_",
        "outputId": "6ac08b48-6c7c-429a-d6b0-cde5c0f7f813"
      },
      "execution_count": 5,
      "outputs": [
        {
          "output_type": "execute_result",
          "data": {
            "text/plain": [
              "'3.14'"
            ],
            "application/vnd.google.colaboratory.intrinsic+json": {
              "type": "string"
            }
          },
          "metadata": {},
          "execution_count": 5
        }
      ]
    },
    {
      "cell_type": "code",
      "source": [
        "month = int(input(\"Enter the month number (1-12): \"))\n",
        "\n",
        "if 3 <= month <= 5:\n",
        "    print(\"Spring\")\n",
        "elif 6 <= month <= 8:\n",
        "    print(\"Summer\")\n",
        "elif 9 <= month <= 11:\n",
        "    print(\"Autumn\")\n",
        "else:  # Covers months 12, 1, and 2\n",
        "    print(\"Winter\")\n"
      ],
      "metadata": {
        "colab": {
          "base_uri": "https://localhost:8080/"
        },
        "id": "l6kreKHVH3nF",
        "outputId": "b07fe894-d549-4215-954d-a743c2e563ad"
      },
      "execution_count": 10,
      "outputs": [
        {
          "output_type": "stream",
          "name": "stdout",
          "text": [
            "Enter the month number (1-12): 66\n",
            "Winter\n"
          ]
        }
      ]
    },
    {
      "cell_type": "code",
      "source": [
        "month = int(input(\"Enter the month number (1-12): \"))\n",
        "\n",
        "if month in [3, 4, 5]:\n",
        "    season = \"Spring\"\n",
        "elif month in [6, 7, 8]:\n",
        "    season = \"Summer\"\n",
        "elif month in [9, 10, 11]:\n",
        "    season = \"Autumn\"\n",
        "elif month in [12, 1, 2]:\n",
        "    season = \"Winter\"\n",
        "\n",
        "print(season)\n"
      ],
      "metadata": {
        "colab": {
          "base_uri": "https://localhost:8080/"
        },
        "id": "qUg8twk3JIAO",
        "outputId": "eae0ab20-d2d6-422c-c306-b613a25e01df"
      },
      "execution_count": 14,
      "outputs": [
        {
          "output_type": "stream",
          "name": "stdout",
          "text": [
            "Enter the month number (1-12): 7\n",
            "Summer\n"
          ]
        }
      ]
    },
    {
      "cell_type": "code",
      "source": [
        "season = \"Winter\" if month in [12, 1, 2] else \"Spring\" if 3 <= month <= 5 else \"Summer\" if 6 <= month <= 8 else \"Autumn\"\n",
        "print(season)"
      ],
      "metadata": {
        "colab": {
          "base_uri": "https://localhost:8080/"
        },
        "id": "5xNBc12jJv1M",
        "outputId": "632ceefa-5545-4142-f24a-6285c426590e"
      },
      "execution_count": 15,
      "outputs": [
        {
          "output_type": "stream",
          "name": "stdout",
          "text": [
            "Summer\n"
          ]
        }
      ]
    },
    {
      "cell_type": "code",
      "source": [
        "season = [\"Winter\", \"Winter\", \"Spring\", \"Spring\", \"Spring\",\n",
        "          \"Summer\", \"Summer\", \"Summer\", \"Autumn\", \"Autumn\", \"Autumn\", \"Winter\"][month - 1]\n",
        "print(season)"
      ],
      "metadata": {
        "colab": {
          "base_uri": "https://localhost:8080/"
        },
        "id": "KGsuXr6dKORD",
        "outputId": "aa26593f-12bf-471b-c03a-546380f84f13"
      },
      "execution_count": 17,
      "outputs": [
        {
          "output_type": "stream",
          "name": "stdout",
          "text": [
            "Summer\n"
          ]
        }
      ]
    },
    {
      "cell_type": "code",
      "source": [],
      "metadata": {
        "id": "iiAWsn3_KgaD"
      },
      "execution_count": null,
      "outputs": []
    }
  ]
}