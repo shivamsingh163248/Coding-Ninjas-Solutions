{
  "nbformat": 4,
  "nbformat_minor": 0,
  "metadata": {
    "colab": {
      "provenance": [],
      "authorship_tag": "ABX9TyOeOE36GSbOVHN6tubTtPmM",
      "include_colab_link": true
    },
    "kernelspec": {
      "name": "python3",
      "display_name": "Python 3"
    },
    "language_info": {
      "name": "python"
    }
  },
  "cells": [
    {
      "cell_type": "markdown",
      "metadata": {
        "id": "view-in-github",
        "colab_type": "text"
      },
      "source": [
        "<a href=\"https://colab.research.google.com/github/shivamsingh163248/Coding-Ninjas-Solutions/blob/main/IIT_Ropar_Minor_in_AI/VideoLacture/TH_W2L4_OOP_in_Action_Case_Studies_.ipynb\" target=\"_parent\"><img src=\"https://colab.research.google.com/assets/colab-badge.svg\" alt=\"Open In Colab\"/></a>"
      ]
    },
    {
      "cell_type": "code",
      "execution_count": 7,
      "metadata": {
        "colab": {
          "base_uri": "https://localhost:8080/"
        },
        "id": "t4IOCgLGR7gB",
        "outputId": "8490601a-a63a-4590-fbeb-76e2f56da674"
      },
      "outputs": [
        {
          "output_type": "stream",
          "name": "stdout",
          "text": [
            "5\n"
          ]
        }
      ],
      "source": [
        "#now learning the concept of the opp in the python\n",
        "class student:\n",
        "  x = 5\n",
        "\n",
        "#accessing the class using the .\n",
        "print(student.x)"
      ]
    },
    {
      "cell_type": "code",
      "source": [
        "#now creating __init__ fucntion this is the constructor\n",
        "class persion:\n",
        "  def __init__(self , name , age):\n",
        "    self.name = name\n",
        "    self.age = age\n",
        "\n",
        "#insilize  the class\n",
        "detail = persion(\"shivam\" , 45)\n",
        "print(detail)\n",
        "print(detail.name)\n",
        "print(detail.age)\n",
        "\n"
      ],
      "metadata": {
        "colab": {
          "base_uri": "https://localhost:8080/"
        },
        "id": "ma0GLGIaUnFf",
        "outputId": "d84d16a1-57bf-49cb-81eb-9f1c620eaacf"
      },
      "execution_count": 8,
      "outputs": [
        {
          "output_type": "stream",
          "name": "stdout",
          "text": [
            "<__main__.persion object at 0x79249c23e6d0>\n",
            "shivam\n",
            "45\n"
          ]
        }
      ]
    },
    {
      "cell_type": "code",
      "source": [
        "#__str__ this fnction is help to creating the\n",
        "#stri\n",
        "class student:\n",
        "\n",
        "  school = \"nit\"\n",
        "\n",
        "  def __init__(self , studnet_name , student_roll , student_id):\n",
        "    self.studnet_name = studnet_name\n",
        "    self.student_roll = student_roll\n",
        "    self.student_id = student_id\n",
        "\n",
        "\n",
        "  #creating the __str__ function for the reutrn something\n",
        "  def __str__(self):\n",
        "    return f\"{self.student_id} {self.school}\"\n",
        "\n",
        "\n",
        "sch = student(\"shivam\" , 566, 346)\n",
        "print(sch)"
      ],
      "metadata": {
        "colab": {
          "base_uri": "https://localhost:8080/"
        },
        "id": "9xbVjx1IdUnU",
        "outputId": "0afaee59-c72a-4692-d673-03b3253c828e"
      },
      "execution_count": 9,
      "outputs": [
        {
          "output_type": "stream",
          "name": "stdout",
          "text": [
            "346 nit\n"
          ]
        }
      ]
    },
    {
      "cell_type": "code",
      "source": [
        "   #in this we define the only one values\n"
      ],
      "metadata": {
        "id": "anxalHqMeyai"
      },
      "execution_count": 10,
      "outputs": []
    },
    {
      "cell_type": "code",
      "source": [],
      "metadata": {
        "id": "v9PNunEQQakU"
      },
      "execution_count": 10,
      "outputs": []
    },
    {
      "cell_type": "code",
      "source": [
        "import os , sys\n",
        "file_name = input(\"enter the file name\")\n",
        "if(os.path.isfile(file_name)):\n",
        "  f = open(file_name , 'r')\n",
        "else:\n",
        "  print(\"file name is not exist\")"
      ],
      "metadata": {
        "colab": {
          "base_uri": "https://localhost:8080/"
        },
        "id": "48MnMknw5vll",
        "outputId": "322d7653-a317-4674-b219-702741dc4a50"
      },
      "execution_count": 11,
      "outputs": [
        {
          "name": "stdout",
          "output_type": "stream",
          "text": [
            "enter the file nameshivam.text\n"
          ]
        }
      ]
    },
    {
      "cell_type": "code",
      "source": [
        "s = open('shivam.text' , 'r')\n",
        "print(s.read())"
      ],
      "metadata": {
        "id": "W9eqLsIb7Xa9",
        "colab": {
          "base_uri": "https://localhost:8080/"
        },
        "outputId": "d55f0475-e69e-4f96-8519-6fbbd09eccb8"
      },
      "execution_count": 18,
      "outputs": [
        {
          "output_type": "stream",
          "name": "stdout",
          "text": [
            "my name is shivam singh i find and sesarch of my long life partner \n"
          ]
        }
      ]
    },
    {
      "cell_type": "code",
      "source": [
        "#creatign the right\n",
        "s = open('shivam.text' , 'w')\n",
        "values = input(\"enter which you want to shore \")\n",
        "print(s.write(values))\n",
        "s.close()\n"
      ],
      "metadata": {
        "colab": {
          "base_uri": "https://localhost:8080/"
        },
        "id": "rmw78bdqQImk",
        "outputId": "5e7cbeee-d8a4-4e83-cff8-48b732d8473f"
      },
      "execution_count": 23,
      "outputs": [
        {
          "output_type": "stream",
          "name": "stdout",
          "text": [
            "enter which you want to shore itisha \n",
            "7\n"
          ]
        }
      ]
    },
    {
      "cell_type": "code",
      "source": [
        "# prompt: write all the file function like read and wight\n",
        "\n",
        "# Reading the entire content of a file\n",
        "def read_entire_file(filename):\n",
        "  \"\"\"Reads and prints the entire content of a file.\"\"\"\n",
        "  try:\n",
        "    with open(filename, 'r') as f:\n",
        "      print(f.read())\n",
        "  except FileNotFoundError:\n",
        "    print(f\"Error: File '{filename}' not found.\")\n",
        "  except Exception as e:\n",
        "    print(f\"An error occurred: {e}\")\n",
        "\n",
        "# Reading a file line by line\n",
        "def read_file_line_by_line(filename):\n",
        "  \"\"\"Reads and prints a file line by line.\"\"\"\n",
        "  try:\n",
        "    with open(filename, 'r') as f:\n",
        "      for line in f:\n",
        "        print(line, end='') # end='' prevents adding extra newline\n",
        "  except FileNotFoundError:\n",
        "    print(f\"Error: File '{filename}' not found.\")\n",
        "  except Exception as e:\n",
        "    print(f\"An error occurred: {e}\")\n",
        "\n",
        "# Reading a specific number of characters from a file\n",
        "def read_characters_from_file(filename, num_chars):\n",
        "  \"\"\"Reads and prints a specific number of characters from a file.\"\"\"\n",
        "  try:\n",
        "    with open(filename, 'r') as f:\n",
        "      print(f.read(num_chars))\n",
        "  except FileNotFoundError:\n",
        "    print(f\"Error: File '{filename}' not found.\")\n",
        "  except Exception as e:\n",
        "    print(f\"An error occurred: {e}\")\n",
        "\n",
        "# Writing to a file (overwriting existing content)\n",
        "def write_to_file(filename, content):\n",
        "  \"\"\"Writes content to a file, overwriting existing content.\"\"\"\n",
        "  try:\n",
        "    with open(filename, 'w') as f:\n",
        "      f.write(content)\n",
        "    print(f\"Content written to '{filename}' successfully.\")\n",
        "  except Exception as e:\n",
        "    print(f\"An error occurred: {e}\")\n",
        "\n",
        "# Appending to a file\n",
        "def append_to_file(filename, content):\n",
        "  \"\"\"Appends content to the end of a file.\"\"\"\n",
        "  try:\n",
        "    with open(filename, 'a') as f:\n",
        "      f.write(content)\n",
        "    print(f\"Content appended to '{filename}' successfully.\")\n",
        "  except Exception as e:\n",
        "    print(f\"An error occurred: {e}\")\n",
        "\n",
        "# Example usage:\n",
        "file_to_operate = 'filename.txt' # Replace with your desired filename\n",
        "\n",
        "# Create a dummy file for demonstration if it doesn't exist\n",
        "if not os.path.exists(file_to_operate):\n",
        "    with open(file_to_operate, 'w') as f:\n",
        "        f.write(\"This is the first line.\\n\")\n",
        "        f.write(\"This is the second line.\\n\")\n",
        "        f.write(\"This is the third line.\\n\")\n",
        "\n",
        "print(f\"--- Reading entire file: {file_to_operate} ---\")\n",
        "read_entire_file(file_to_operate)\n",
        "\n",
        "print(f\"\\n--- Reading file line by line: {file_to_operate} ---\")\n",
        "read_file_line_by_line(file_to_operate)\n",
        "\n",
        "print(f\"\\n--- Reading first 10 characters from: {file_to_operate} ---\")\n",
        "read_characters_from_file(file_to_operate, 10)\n",
        "\n",
        "print(f\"\\n--- Writing to file: {file_to_operate} ---\")\n",
        "write_to_file(file_to_operate, \"This content overwrites the file.\\n\")\n",
        "read_entire_file(file_to_operate) # Read again to show the change\n",
        "\n",
        "print(f\"\\n--- Appending to file: {file_to_operate} ---\")\n",
        "append_to_file(file_to_operate, \"This content is appended.\\n\")\n",
        "read_entire_file(file_to_operate) # Read again to show the append\n",
        "\n",
        "# Clean up the dummy file (optional)\n",
        "# import os\n",
        "# os.remove(file_to_operate)\n",
        "\n"
      ],
      "metadata": {
        "colab": {
          "base_uri": "https://localhost:8080/"
        },
        "id": "FQHXNcAlRsda",
        "outputId": "0468a4ea-477a-4339-b675-825da737c3f4"
      },
      "execution_count": 24,
      "outputs": [
        {
          "output_type": "stream",
          "name": "stdout",
          "text": [
            "--- Reading entire file: filename.txt ---\n",
            "This is the first line.\n",
            "This is the second line.\n",
            "This is the third line.\n",
            "\n",
            "\n",
            "--- Reading file line by line: filename.txt ---\n",
            "This is the first line.\n",
            "This is the second line.\n",
            "This is the third line.\n",
            "\n",
            "--- Reading first 10 characters from: filename.txt ---\n",
            "This is th\n",
            "\n",
            "--- Writing to file: filename.txt ---\n",
            "Content written to 'filename.txt' successfully.\n",
            "This content overwrites the file.\n",
            "\n",
            "\n",
            "--- Appending to file: filename.txt ---\n",
            "Content appended to 'filename.txt' successfully.\n",
            "This content overwrites the file.\n",
            "This content is appended.\n",
            "\n"
          ]
        }
      ]
    },
    {
      "cell_type": "code",
      "source": [
        "#now learning the exception hendeling\n",
        "try:\n",
        "  a = 5/0\n",
        "except ZeroDivisionError:\n",
        "  print(\"Cannot divide by zero\")\n",
        "except Exception as e:\n",
        "  print(f\"An error occurred: {e}\")\n",
        "else :\n",
        "  print(\"this is the else block \")\n",
        "finally:\n",
        "  print(\"this is the finally blok \")"
      ],
      "metadata": {
        "colab": {
          "base_uri": "https://localhost:8080/"
        },
        "id": "PKU2na2gSkh3",
        "outputId": "f752ff07-1bf5-4f07-ff00-4e4c89bfee7a"
      },
      "execution_count": 27,
      "outputs": [
        {
          "output_type": "stream",
          "name": "stdout",
          "text": [
            "Cannot divide by zero\n",
            "this is the finally blok \n"
          ]
        }
      ]
    },
    {
      "cell_type": "code",
      "source": [
        "try:\n",
        "    x = int(\"123\")\n",
        "    y = 0\n",
        "    z = x / y\n",
        "except ValueError:\n",
        "    print(\"ValueError occurred!\")\n",
        "except ZeroDivisionError:\n",
        "    print(\"ZeroDivisionError occurred!\")\n",
        "else:\n",
        "    print(\"No exception occurred!\")\n",
        "finally:\n",
        "    print(\"This 'finally' block always executes!\")"
      ],
      "metadata": {
        "colab": {
          "base_uri": "https://localhost:8080/"
        },
        "id": "DmEkgtQ3dLyd",
        "outputId": "ebbf9dc5-131e-48c4-d50f-ba58a6c58767"
      },
      "execution_count": 28,
      "outputs": [
        {
          "output_type": "stream",
          "name": "stdout",
          "text": [
            "ZeroDivisionError occurred!\n",
            "This 'finally' block always executes!\n"
          ]
        }
      ]
    },
    {
      "cell_type": "code",
      "source": [
        "#creating the file handeling with the exception hendeling\n",
        "#taking the input from the user as the final name and try\n",
        "file_name = input(\"enter the file name with the extenston \")\n",
        "try:\n",
        "  file_open = open(file_name , 'r')\n",
        "  line_number = file_open.readline()\n",
        "  print(\"this is the line number\" , line_number)\n",
        "except FileNotFoundError:\n",
        "  print(\"file not found\")\n"
      ],
      "metadata": {
        "colab": {
          "base_uri": "https://localhost:8080/"
        },
        "id": "SRut1VP_fLdS",
        "outputId": "66680922-c448-4b2a-9068-c97772930d60"
      },
      "execution_count": 32,
      "outputs": [
        {
          "output_type": "stream",
          "name": "stdout",
          "text": [
            "enter the file name with the extenston d\n",
            "file not found\n"
          ]
        }
      ]
    },
    {
      "cell_type": "code",
      "source": [
        "#now logging the error\n"
      ],
      "metadata": {
        "id": "gpnCd10rg0fB"
      },
      "execution_count": 30,
      "outputs": []
    }
  ]
}