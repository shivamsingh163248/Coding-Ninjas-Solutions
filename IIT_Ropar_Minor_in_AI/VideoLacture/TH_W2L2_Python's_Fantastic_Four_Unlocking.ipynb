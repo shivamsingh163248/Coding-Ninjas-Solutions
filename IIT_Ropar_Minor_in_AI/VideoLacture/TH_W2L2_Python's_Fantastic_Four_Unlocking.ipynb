{
  "nbformat": 4,
  "nbformat_minor": 0,
  "metadata": {
    "colab": {
      "provenance": [],
      "authorship_tag": "ABX9TyPw2+j5JMUJ/pg2w0c870ul",
      "include_colab_link": true
    },
    "kernelspec": {
      "name": "python3",
      "display_name": "Python 3"
    },
    "language_info": {
      "name": "python"
    }
  },
  "cells": [
    {
      "cell_type": "markdown",
      "metadata": {
        "id": "view-in-github",
        "colab_type": "text"
      },
      "source": [
        "<a href=\"https://colab.research.google.com/github/shivamsingh163248/Coding-Ninjas-Solutions/blob/main/IIT_Ropar_Minor_in_AI/VideoLacture/TH_W2L2_Python's_Fantastic_Four_Unlocking.ipynb\" target=\"_parent\"><img src=\"https://colab.research.google.com/assets/colab-badge.svg\" alt=\"Open In Colab\"/></a>"
      ]
    },
    {
      "cell_type": "code",
      "execution_count": null,
      "metadata": {
        "colab": {
          "base_uri": "https://localhost:8080/"
        },
        "id": "qQa0nuhgLXnw",
        "outputId": "85afb0ba-52d9-44d7-e81b-34f786e7712f"
      },
      "outputs": [
        {
          "output_type": "stream",
          "name": "stdout",
          "text": [
            "[5, 67, 7, 54, 54, 3, 4, 3, 3]\n"
          ]
        }
      ],
      "source": [
        "list1 = [5,67,7,54,54,3,4,3,3]\n",
        "print(list1)"
      ]
    },
    {
      "cell_type": "code",
      "source": [
        "print(list1[0])"
      ],
      "metadata": {
        "colab": {
          "base_uri": "https://localhost:8080/"
        },
        "id": "tnVGwcY-Rztq",
        "outputId": "7a034165-fead-4600-da66-28542e7374df"
      },
      "execution_count": null,
      "outputs": [
        {
          "output_type": "stream",
          "name": "stdout",
          "text": [
            "5\n"
          ]
        }
      ]
    },
    {
      "cell_type": "code",
      "source": [
        "print(list1[-1])"
      ],
      "metadata": {
        "colab": {
          "base_uri": "https://localhost:8080/"
        },
        "id": "JL1ycFyuSDT8",
        "outputId": "f7638663-8395-46ba-ac98-4f87fe2e7395"
      },
      "execution_count": null,
      "outputs": [
        {
          "output_type": "stream",
          "name": "stdout",
          "text": [
            "3\n"
          ]
        }
      ]
    },
    {
      "cell_type": "code",
      "source": [
        "print(list1[4:])"
      ],
      "metadata": {
        "colab": {
          "base_uri": "https://localhost:8080/"
        },
        "id": "PAyO3WcFSHhE",
        "outputId": "e3aa425e-e234-4de1-cb83-a3b03817b0db"
      },
      "execution_count": null,
      "outputs": [
        {
          "output_type": "stream",
          "name": "stdout",
          "text": [
            "[54, 3, 4, 3, 3]\n"
          ]
        }
      ]
    },
    {
      "cell_type": "code",
      "source": [],
      "metadata": {
        "id": "m-ggEuUiVuNC"
      },
      "execution_count": null,
      "outputs": []
    }
  ]
}